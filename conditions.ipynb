{
 "cells": [
  {
   "cell_type": "code",
   "execution_count": 1,
   "metadata": {},
   "outputs": [],
   "source": [
    "count= int(input(\"enter a value:\"))\n",
    "if count > 5:\n",
    "    print(\"this part\")\n",
    "if count > 15:\n",
    "    print(\" next part\")\n",
    "if count % 2==0:\n",
    "    print(\" count is even\")"
   ]
  },
  {
   "cell_type": "code",
   "execution_count": 2,
   "metadata": {},
   "outputs": [
    {
     "name": "stdout",
     "output_type": "stream",
     "text": [
      "c=5 is greater\n"
     ]
    }
   ],
   "source": [
    "a=2\n",
    "b=4\n",
    "c=5\n",
    "if a > b and a > c:\n",
    "    print(f'{a=} is greater')\n",
    "elif b > a and b > c:\n",
    "    print(f'{b=} is greater')\n",
    "else:\n",
    "    print(f'{c=} is greater')\n"
   ]
  },
  {
   "cell_type": "code",
   "execution_count": 3,
   "metadata": {},
   "outputs": [
    {
     "name": "stdout",
     "output_type": "stream",
     "text": [
      "b=432 is greater\n"
     ]
    }
   ],
   "source": [
    "a=43\n",
    "b=432\n",
    "c=423\n",
    "if a > b and a > c:\n",
    "    print(f'{a=} is greater')\n",
    "if b > a and b > c:\n",
    "    print(f'{b=} is greater')\n",
    "if c > b and c > a:\n",
    "n=    print(f'{a=} is greater')\n"
   ]
  },
  {
   "cell_type": "code",
   "execution_count": 1,
   "metadata": {},
   "outputs": [],
   "source": [
    "n=int(input(\"enter \")) \n",
    "print(n)"
   ]
  }
 ],
 "metadata": {
  "kernelspec": {
   "display_name": "Python 3.9.12 ('base')",
   "language": "python",
   "name": "python3"
  },
  "language_info": {
   "codemirror_mode": {
    "name": "ipython",
    "version": 3
   },
   "file_extension": ".py",
   "mimetype": "text/x-python",
   "name": "python",
   "nbconvert_exporter": "python",
   "pygments_lexer": "ipython3",
   "version": "3.9.12"
  },
  "orig_nbformat": 4,
  "vscode": {
   "interpreter": {
    "hash": "e6b4faaa7c9ff13e5bff5afed7e406b7401fa36b3eae0ed6ee1cfcdd2c03e1dc"
   }
  }
 },
 "nbformat": 4,
 "nbformat_minor": 2
}
