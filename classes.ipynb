{
 "cells": [
  {
   "cell_type": "code",
   "execution_count": 1,
   "metadata": {},
   "outputs": [],
   "source": [
    "class Mobile:\n",
    "    def __init__(self, nm , brnd , price , ram , camera ):\n",
    "        self.name = nm\n",
    "        self.brand = brnd\n",
    "        self.price = price\n",
    "        self.ram = ram\n",
    "        self.camera =camera\n",
    "\n",
    "    def __repr__(self):\n",
    "        return self.name\n",
    "    \n",
    "    def info(self):\n",
    "        print(f'Name: {self.name}')\n",
    "        print(f'Brand: {self.brand}')\n",
    "        print(f'Price: {self.price}')\n",
    "        print(f'RAM: {self.ram}')\n",
    "        print(f'Camera: {self.camera}')\n",
    "    "
   ]
  },
  {
   "cell_type": "code",
   "execution_count": 2,
   "metadata": {},
   "outputs": [
    {
     "name": "stdout",
     "output_type": "stream",
     "text": [
      "[redmi note 9 pro, iphone 11, galaxy m31]\n"
     ]
    }
   ],
   "source": [
    "m1=Mobile('redmi note 9 pro','Xiaomi', 15000 ,'6GB','4MP')\n",
    "m2=Mobile('iphone 11', 'Apple',8000 ,'4GB' , '12MP')\n",
    "m3=Mobile('galaxy m31','Samsung',20000,'6GB','64MP')\n",
    "mobiles=[m1,m2,m3]\n",
    "print(mobiles)"
   ]
  },
  {
   "cell_type": "code",
   "execution_count": 3,
   "metadata": {},
   "outputs": [
    {
     "name": "stdout",
     "output_type": "stream",
     "text": [
      "redmi note 9 pro\n",
      "iphone 11\n",
      "galaxy m31\n"
     ]
    }
   ],
   "source": [
    "for item in mobiles:\n",
    "    print(item)"
   ]
  },
  {
   "cell_type": "code",
   "execution_count": 5,
   "metadata": {},
   "outputs": [
    {
     "name": "stdout",
     "output_type": "stream",
     "text": [
      "redmi note 9 pro Xiaomi\n",
      "iphone 11 Apple\n",
      "galaxy m31 Samsung\n"
     ]
    }
   ],
   "source": [
    "for item in mobiles:\n",
    "    print(item.name,item.brand)"
   ]
  },
  {
   "cell_type": "code",
   "execution_count": 6,
   "metadata": {},
   "outputs": [
    {
     "name": "stdout",
     "output_type": "stream",
     "text": [
      "Name: redmi note 9 pro\n",
      "Brand: Xiaomi\n",
      "Price: 15000\n",
      "RAM: 6GB\n",
      "Camera: 4MP\n",
      "Name: iphone 11\n",
      "Brand: Apple\n",
      "Price: 8000\n",
      "RAM: 4GB\n",
      "Camera: 12MP\n",
      "Name: galaxy m31\n",
      "Brand: Samsung\n",
      "Price: 20000\n",
      "RAM: 6GB\n",
      "Camera: 64MP\n"
     ]
    }
   ],
   "source": [
    "for item in mobiles:\n",
    "    item.info()"
   ]
  }
 ],
 "metadata": {
  "kernelspec": {
   "display_name": "base",
   "language": "python",
   "name": "python3"
  },
  "language_info": {
   "codemirror_mode": {
    "name": "ipython",
    "version": 3
   },
   "file_extension": ".py",
   "mimetype": "text/x-python",
   "name": "python",
   "nbconvert_exporter": "python",
   "pygments_lexer": "ipython3",
   "version": "3.9.12"
  },
  "orig_nbformat": 4
 },
 "nbformat": 4,
 "nbformat_minor": 2
}
