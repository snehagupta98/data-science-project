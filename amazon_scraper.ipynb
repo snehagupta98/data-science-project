{
 "cells": [
  {
   "cell_type": "code",
   "execution_count": 2,
   "metadata": {},
   "outputs": [],
   "source": [
    "from dputils .scrape import Scraper,Tag"
   ]
  },
  {
   "cell_type": "code",
   "execution_count": 8,
   "metadata": {},
   "outputs": [
    {
     "data": {
      "text/plain": [
       "<title>Amazon.com : {query}</title>"
      ]
     },
     "execution_count": 8,
     "metadata": {},
     "output_type": "execute_result"
    }
   ],
   "source": [
    "page=1\n",
    "query='dress'\n",
    "webpage =Scraper ('https://www.amazon.com/s?k={query}&page={page}')\n",
    "webpage.soup.title\n"
   ]
  },
  {
   "cell_type": "code",
   "execution_count": 9,
   "metadata": {},
   "outputs": [
    {
     "data": {
      "text/plain": [
       "[{'name': None, 'price': None},\n",
       " {'name': 'SQL Queries for Mere Mortals: A Hands-On Guide to Data Manipulation in SQL  ',\n",
       "  'price': '40.'},\n",
       " {'name': 'Quaker Queries for All Seasons  ', 'price': '9.'},\n",
       " {'name': 'Old Country  ', 'price': '0.'},\n",
       " {'name': None, 'price': None},\n",
       " {'name': 'SQL Cookbook: Query Solutions and Techniques for All SQL Users  ',\n",
       "  'price': '24.'},\n",
       " {'name': 'The Failsafe Query: The high risk search for a spy legacy (Failsafe Thrillers)  ',\n",
       "  'price': '9.'},\n",
       " {'name': 'Query: Everything You Need To Get Started, Get Noticed, and Get Signed  ',\n",
       "  'price': '3.'},\n",
       " {'name': 'The Big Book Of SQL Queries: 250+ SQL Practice Queries (SQL Series)  ',\n",
       "  'price': '24.'},\n",
       " {'name': 'Quarrys, Queries  ', 'price': None},\n",
       " {'name': 'Easy Sim USSD, Query, Recharge  ', 'price': None},\n",
       " {'name': 'Query Craft: The Writer-in-the-Know Guide to Getting Your Manuscript Requested  ',\n",
       "  'price': '11.'},\n",
       " {'name': None, 'price': None},\n",
       " {'name': 'Milwaukee 48-11-1880 M18 REDLITHIUM HIGH OUTPUT 18v 8.0 Ah Lithium-Ion Battery Pack  ',\n",
       "  'price': '118.'},\n",
       " {'name': 'Query  ', 'price': '0.'},\n",
       " {'name': 'Jackery Portable Power Station Explorer 240, 240Wh Backup Lithium Battery, 110V/200W Pure Sine Wave AC Outlet, Solar Generator (Solar Panel Not Included) for Outdoors Camping Travel Hunting Emergency  ',\n",
       "  'price': None},\n",
       " {'name': 'Betsey Johnson Woven Mixed Multi-Colored Bead Flower Heart Illusion Necklace  ',\n",
       "  'price': '48.'},\n",
       " {'name': 'DEWALT 20V MAX Battery, 2 Ah and 4 Ah, 4-Pack, Fuel Gauge LED Charge Indicators(DCB324-4)  ',\n",
       "  'price': '172.'},\n",
       " {'name': 'Thorne Quercetin Phytosome - Exclusive Phytosome Complex for Immune Health, Respiratory Support, and Seasonal Allergy Relief - 60 Capsules  ',\n",
       "  'price': '38.'},\n",
       " {'name': 'Energizer 2032 Batteries, Lithium CR2032 Watch Battery, 6 Count  ',\n",
       "  'price': None},\n",
       " {'name': 'Adobe Acrobat Professional DC | Create, edit and sign PDF documents | 1-month Subscription with auto-renewal, PC/Mac  ',\n",
       "  'price': '24.'},\n",
       " {'name': 'Milwaukee M18 48-11-1850 5.0 AH Batteries 5.0 18V 48-11-1852 (2 pack)  ',\n",
       "  'price': None},\n",
       " {'name': 'The Bold and the Beautiful  ', 'price': None},\n",
       " {'name': 'DEWALT 20V MAX XR Battery, Lithium Ion, 5.0Ah (DCB205)  ',\n",
       "  'price': '70.'},\n",
       " {'name': 'NOW Supplements, Quercetin with Bromelain, Balanced Immune System*, 120 Veg Capsules  ',\n",
       "  'price': '15.'},\n",
       " {'name': 'Amazing Formulas Quercetin 500mg 120 Veggie Capsules Supplement - Non-GMO - Gluten Free - Supports Overall Health & Well Being  ',\n",
       "  'price': '19.'},\n",
       " {'name': 'Jarrow Formulas Quercetin 500 mg - Supports Antioxidant Status, Cardiovascular Health & Immune Health - Dietary Supplement - 100 Servings (Veggie Caps) (Packaging May Vary)  ',\n",
       "  'price': '22.'},\n",
       " {'name': 'Energizer 2032 Batteries, Lithium CR2032 Watch Battery, 4 Count  ',\n",
       "  'price': None},\n",
       " {'name': 'Milwaukee 48-11-1850 M18 Redlithium 5.0Ah Bat Pack  ',\n",
       "  'price': '61.'},\n",
       " {'name': 'NatureBell Quercetin 1000mg Per Serving | 240 Capsules, Ultra Strength Quercetin Supplement | Bioflavonoids for Healthy Immune Support, Third Party Tested, Non-GMO & No Gluten  ',\n",
       "  'price': '26.'},\n",
       " {'name': 'Live Nude Girls Unite!  ', 'price': '3.'},\n",
       " {'name': 'Zinc Quercetin 120 Vegetarian Capsules  ', 'price': '24.'},\n",
       " {'name': 'SOLARAY Quercetin 500 mg, Supports Sinus, Respiratory, Immune Function & Normal, Healthy Uric Acid Levels, 90 VegCaps  ',\n",
       "  'price': '23.'},\n",
       " {'name': 'Master Your Data with Power Query in Excel and Power BI: Leveraging Power Query to Get & Transform Your Task Flow  ',\n",
       "  'price': '19.'},\n",
       " {'name': 'Excel Power Pivot & Power Query For Dummies  ', 'price': '25.'},\n",
       " {'name': 'SVP‑916 100‑130VAC Adjustable Over and Under Voltage Protector, Delay Reset Protector, with Reset Mode Selection, Fault Query and Factory Reset Function  ',\n",
       "  'price': '17.'},\n",
       " {'name': 'Duracell CR2032 3V Lithium Battery, Child Safety Features, 6 Count Pack, Lithium Coin Battery for Key Fob, Car Remote, Glucose Monitor, CR Lithium 3 Volt Cell  ',\n",
       "  'price': None},\n",
       " {'name': \"Doctor's Best Quercetin Bromelain, Immunity Support, Heart, Joint & Healthy Respiratory System, Non-GMO, Vegan, Gluten Free, Soy Free,180 VC  \",\n",
       "  'price': '21.'},\n",
       " {'name': 'SQL Server Query Tuning and Optimization: Optimize Microsoft SQL Server 2022 queries and applications  ',\n",
       "  'price': '49.'},\n",
       " {'name': 'Starry Messenger: Cosmic Perspectives on Civilization  ',\n",
       "  'price': '0.'},\n",
       " {'name': 'SQL Server 2022 Query Performance Tuning: Troubleshoot and Optimize Query Performance  ',\n",
       "  'price': '54.'},\n",
       " {'name': \"Cosmic Queries: StarTalk's Guide to Who We Are, How We Got Here, and Where We're Going  \",\n",
       "  'price': '22.'},\n",
       " {'name': 'Creating a Query with Microsoft Access 2007  ', 'price': None},\n",
       " {'name': 'Optima Batteries 8004-003 34/78 RedTop Starting Battery  ',\n",
       "  'price': None},\n",
       " {'name': 'Collect, Combine, and Transform Data Using Power Query in Excel and Power BI (Business Skills)  ',\n",
       "  'price': '36.'},\n",
       " {'name': 'SQL Queries 2012 Joes 2 Pros 5 Volume (DVD) Certification Training Tutorial for Microsoft Exam 70-461  ',\n",
       "  'price': None},\n",
       " {'name': 'Power Query Cookbook: Use effective and powerful queries in Power BI Desktop and Dataflows to prepare and transform your data  ',\n",
       "  'price': '46.'},\n",
       " {'name': 'Amazon Basics 4 Pack CR2032 3 Volt Lithium Coin Cell Battery  ',\n",
       "  'price': None},\n",
       " {'name': 'Optima Batteries OPT8014-045 8014-045 D34/78 YellowTop Dual Purpose Battery  ',\n",
       "  'price': None},\n",
       " {'name': 'SQL Query Design Patterns and Best Practices: A practical guide to writing readable and maintainable SQL queries using its design patterns  ',\n",
       "  'price': '28.'},\n",
       " {'name': 'Quercetin | Sugar Free | Liquid Quercetin 500mg Immune Support for Adults & Kids | Inflammation Support Supplement | Immune Defense | Cellular Health | Vegan | Non-GMO | Gluten Free | 4 Fl Oz  ',\n",
       "  'price': '20.'},\n",
       " {'name': None, 'price': None},\n",
       " {'name': None, 'price': None},\n",
       " {'name': None, 'price': None}]"
      ]
     },
     "execution_count": 9,
     "metadata": {},
     "output_type": "execute_result"
    }
   ],
   "source": [
    "target =Tag('div',cls=\"s-main-slot s-result-list s-search-results sg-row\")\n",
    "items = Tag(cls='s-result-item')\n",
    "title =  Tag('h2')\n",
    "price=Tag('span' , cls='a-price-whole')\n",
    "rating=Tag()\n",
    "webpage.get_all(target,items,name=title,price=price)"
   ]
  },
  {
   "cell_type": "code",
   "execution_count": null,
   "metadata": {},
   "outputs": [],
   "source": []
  }
 ],
 "metadata": {
  "kernelspec": {
   "display_name": "base",
   "language": "python",
   "name": "python3"
  },
  "language_info": {
   "codemirror_mode": {
    "name": "ipython",
    "version": 3
   },
   "file_extension": ".py",
   "mimetype": "text/x-python",
   "name": "python",
   "nbconvert_exporter": "python",
   "pygments_lexer": "ipython3",
   "version": "3.9.12"
  },
  "orig_nbformat": 4
 },
 "nbformat": 4,
 "nbformat_minor": 2
}
