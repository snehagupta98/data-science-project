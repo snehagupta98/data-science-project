{
 "cells": [
  {
   "cell_type": "code",
   "execution_count": 6,
   "metadata": {},
   "outputs": [
    {
     "name": "stdout",
     "output_type": "stream",
     "text": [
      "don't cry\n",
      "don't cry\n",
      "don't cry\n",
      "don't cry\n",
      "don't cry\n",
      "don't cry\n",
      "don't cry\n",
      "don't cry\n",
      "don't cry\n"
     ]
    }
   ],
   "source": [
    "for i in range(1,10):\n",
    "    print(\"don't cry\")"
   ]
  },
  {
   "cell_type": "code",
   "execution_count": 7,
   "metadata": {},
   "outputs": [
    {
     "name": "stdout",
     "output_type": "stream",
     "text": [
      "0 1 2 3 4 5 6 7 8 9 10 11 12 13 14 15 16 17 18 19 20 21 22 23 24 25 26 27 28 29 30 31 32 33 34 35 36 37 38 39 40 41 42 43 44 45 46 47 48 49 50 51 52 53 54 55 56 57 58 59 60 61 62 63 64 65 66 67 68 69 70 71 72 73 74 75 76 77 78 79 80 81 82 83 84 85 86 87 88 89 90 91 92 93 94 95 96 97 98 99 "
     ]
    }
   ],
   "source": [
    "for i in range(100):\n",
    "    print(i , end=' ')"
   ]
  },
  {
   "cell_type": "code",
   "execution_count": 8,
   "metadata": {},
   "outputs": [
    {
     "name": "stdout",
     "output_type": "stream",
     "text": [
      "1 6 11 16 21 26 31 36 41 46 51 56 61 66 71 76 81 86 91 96 "
     ]
    }
   ],
   "source": [
    "for i in range(1,101,5):\n",
    "    print(i , end=' ')"
   ]
  },
  {
   "cell_type": "code",
   "execution_count": 9,
   "metadata": {},
   "outputs": [
    {
     "name": "stdout",
     "output_type": "stream",
     "text": [
      "ODD NUMBERS\n",
      "1 3 5 7 9 11 13 15 17 19 21 23 25 27 29 31 33 35 37 39 41 43 45 47 49 51 53 55 57 59 61 63 65 67 69 71 73 75 77 79 81 83 85 87 89 91 93 95 97 99 "
     ]
    }
   ],
   "source": [
    "print('ODD NUMBERS')\n",
    "#wap to print all odd numbers from 1 to 100\n",
    "for i in range(1,100,2) :\n",
    "    print( i ,end=' ')"
   ]
  },
  {
   "cell_type": "code",
   "execution_count": 10,
   "metadata": {},
   "outputs": [
    {
     "name": "stdout",
     "output_type": "stream",
     "text": [
      " \n",
      "t\n",
      "h\n",
      "e\n",
      " \n",
      "w\n",
      "a\n",
      "y\n",
      " \n",
      "o\n",
      "f\n",
      " \n",
      "t\n",
      "h\n",
      "e\n",
      " \n",
      "k\n",
      "i\n",
      "n\n",
      "g\n",
      " \n"
     ]
    }
   ],
   "source": [
    "name= \" the way of the king \"\n",
    "for char in name:\n",
    "    print(char)"
   ]
  },
  {
   "cell_type": "code",
   "execution_count": 11,
   "metadata": {},
   "outputs": [
    {
     "name": "stdout",
     "output_type": "stream",
     "text": [
      "kgf | 3\n",
      "dhamal | 6\n",
      "chupke chupke | 13\n",
      "3 idiots | 8\n",
      "nadiya par | 10\n",
      "kuch kuch hota hai | 18\n"
     ]
    }
   ],
   "source": [
    "movies=['kgf','dhamal','chupke chupke','3 idiots','nadiya par','kuch kuch hota hai']\n",
    "for movie in movies:\n",
    "    print(f'{movie} | {len(movie)}')"
   ]
  },
  {
   "attachments": {},
   "cell_type": "markdown",
   "metadata": {},
   "source": [
    "ENUMERATOR"
   ]
  },
  {
   "cell_type": "code",
   "execution_count": 13,
   "metadata": {},
   "outputs": [
    {
     "name": "stdout",
     "output_type": "stream",
     "text": [
      "(0, 2)\n",
      "(1, 3)\n",
      "(2, 45)\n",
      "(3, 6)\n",
      "(4, 7)\n",
      "(5, 54)\n",
      "(6, 3)\n"
     ]
    }
   ],
   "source": [
    "data =[2,3,45,6,7,54,3]\n",
    "for item in enumerate(data):\n",
    "    print(item)"
   ]
  },
  {
   "cell_type": "code",
   "execution_count": null,
   "metadata": {},
   "outputs": [
    {
     "name": "stdout",
     "output_type": "stream",
     "text": [
      "0 2\n",
      "1 3\n",
      "2 45\n",
      "3 6\n",
      "4 7\n",
      "5 54\n",
      "6 3\n"
     ]
    }
   ],
   "source": [
    "for i ,v in enumerate(data):\n",
    "    print(i,v)"
   ]
  },
  {
   "cell_type": "code",
   "execution_count": 16,
   "metadata": {},
   "outputs": [
    {
     "name": "stdout",
     "output_type": "stream",
     "text": [
      "58\n"
     ]
    }
   ],
   "source": [
    "Apps = ['Face Time','calender','photos','camera','google meet','google maps','mail','notes','reminders','google photos',' clock' ,'tv','app store' ,'maps','settings','calculator','files','find my','fitness','google pay','phone pe','paytm','hdfc bank','groww','flipkart','meesho','zomato','myntra','hotstar','prime video','spotify','music','netflix','instagram','adobe scan','drive','linkedin','classroom','unacademy','udemy','slap and run','snapchat','whatsapp','youtube','gmail','logical reasoning','pocket verbal','google','pocket aptitude','telegram','safari','messages','phone','google photos','campass','measure','watch','home']\n",
    "print(len(Apps))"
   ]
  },
  {
   "attachments": {},
   "cell_type": "markdown",
   "metadata": {},
   "source": [
    "ZIP"
   ]
  },
  {
   "cell_type": "code",
   "execution_count": 17,
   "metadata": {},
   "outputs": [],
   "source": [
    "x=[1,2,3,4,5]\n",
    "y=[10,20,30,40,50,60]"
   ]
  },
  {
   "cell_type": "code",
   "execution_count": 18,
   "metadata": {},
   "outputs": [
    {
     "name": "stdout",
     "output_type": "stream",
     "text": [
      "11\n",
      "22\n",
      "33\n",
      "44\n",
      "55\n"
     ]
    }
   ],
   "source": [
    "#non pythonic\n",
    "for i in range(len(x)):\n",
    "    out=x[i] + y[i] \n",
    "    print(out)"
   ]
  },
  {
   "cell_type": "code",
   "execution_count": null,
   "metadata": {},
   "outputs": [
    {
     "name": "stdout",
     "output_type": "stream",
     "text": [
      "11\n",
      "22\n",
      "33\n",
      "44\n",
      "55\n"
     ]
    }
   ],
   "source": [
    "#pythonic\n",
    "for i,j in zip(x,y):\n",
    "    out=i+j\n",
    "    print(out)"
   ]
  },
  {
   "cell_type": "code",
   "execution_count": null,
   "metadata": {},
   "outputs": [
    {
     "name": "stdout",
     "output_type": "stream",
     "text": [
      "8\n",
      "18\n",
      "112\n",
      "80\n",
      "126\n",
      "48\n",
      "84\n",
      "80\n"
     ]
    }
   ],
   "source": [
    "x=[2,3,4,5,7,4,3,2]\n",
    "y=[2,3,4,2,3,2,4,5]\n",
    "z=[2,2,7,8,6,6,7,8]\n",
    "for i,j,k in zip(x,y,z):\n",
    "    r=i*j*k          # random equation\n",
    "    print(r)"
   ]
  },
  {
   "cell_type": "code",
   "execution_count": null,
   "metadata": {},
   "outputs": [],
   "source": [
    "for app in Apps:\n",
    "    print(app)"
   ]
  },
  {
   "cell_type": "code",
   "execution_count": null,
   "metadata": {},
   "outputs": [],
   "source": [
    "for i,app in enumerate(Apps):\n",
    "    print(i,app)\n"
   ]
  },
  {
   "cell_type": "code",
   "execution_count": 21,
   "metadata": {},
   "outputs": [
    {
     "name": "stdout",
     "output_type": "stream",
     "text": [
      "0 Face Time\n",
      "1 calender\n",
      "2 photos\n",
      "3 camera\n",
      "4 google meet\n",
      "5 google maps\n",
      "6 mail\n",
      "7 notes\n",
      "8 reminders\n",
      "9 google photos\n"
     ]
    }
   ],
   "source": [
    "# print 1 st 10 app\n",
    "for i,app in enumerate(Apps):\n",
    "    if i > 9:\n",
    "        break\n",
    "    print(i,app)"
   ]
  },
  {
   "cell_type": "code",
   "execution_count": 22,
   "metadata": {},
   "outputs": [
    {
     "name": "stdout",
     "output_type": "stream",
     "text": [
      "Face Time\n",
      "calender\n",
      "photos\n",
      "camera\n",
      "google meet\n",
      "google maps\n",
      "mail\n",
      "notes\n",
      "reminders\n",
      "google photos\n",
      " clock\n",
      "tv\n",
      "app store\n",
      "maps\n",
      "settings\n"
     ]
    }
   ],
   "source": [
    "for app in Apps:\n",
    "    if app== 'calculator':\n",
    "        break\n",
    "    print(app)"
   ]
  },
  {
   "cell_type": "code",
   "execution_count": 27,
   "metadata": {},
   "outputs": [
    {
     "name": "stdout",
     "output_type": "stream",
     "text": [
      "Face Time\n",
      "calender\n",
      "photos\n",
      "camera\n",
      "g found in google meet\n"
     ]
    }
   ],
   "source": [
    "# if any app contains 'g' in name , then stop\n",
    "for app in Apps:\n",
    "    if 'g' in app:\n",
    "        print(f'g found in {app}')\n",
    "        break\n",
    "    print(app)"
   ]
  },
  {
   "cell_type": "code",
   "execution_count": 31,
   "metadata": {},
   "outputs": [
    {
     "name": "stdout",
     "output_type": "stream",
     "text": [
      "Face Time\n",
      "calender\n",
      "photos\n",
      "camera\n",
      "google meet\n",
      "g was found in google maps\n"
     ]
    }
   ],
   "source": [
    "# app who starts with g =second app\n",
    "c=0\n",
    "for app in Apps:\n",
    "    if 'g' in app:\n",
    "        c+=1\n",
    "    if c==2:\n",
    "        print(f'g was found in {app}')\n",
    "        break\n",
    "    print(app)\n"
   ]
  },
  {
   "cell_type": "code",
   "execution_count": null,
   "metadata": {},
   "outputs": [],
   "source": []
  },
  {
   "cell_type": "code",
   "execution_count": null,
   "metadata": {},
   "outputs": [],
   "source": []
  }
 ],
 "metadata": {
  "kernelspec": {
   "display_name": "base",
   "language": "python",
   "name": "python3"
  },
  "language_info": {
   "codemirror_mode": {
    "name": "ipython",
    "version": 3
   },
   "file_extension": ".py",
   "mimetype": "text/x-python",
   "name": "python",
   "nbconvert_exporter": "python",
   "pygments_lexer": "ipython3",
   "version": "3.9.12"
  },
  "orig_nbformat": 4,
  "vscode": {
   "interpreter": {
    "hash": "e6b4faaa7c9ff13e5bff5afed7e406b7401fa36b3eae0ed6ee1cfcdd2c03e1dc"
   }
  }
 },
 "nbformat": 4,
 "nbformat_minor": 2
}
